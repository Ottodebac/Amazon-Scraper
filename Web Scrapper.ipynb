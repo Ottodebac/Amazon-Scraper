{
 "cells": [
  {
   "cell_type": "code",
   "execution_count": 4,
   "id": "0d626093-7ec1-441d-a0e3-52af7efd354a",
   "metadata": {},
   "outputs": [],
   "source": [
    "# import libraries \n",
    "\n",
    "from bs4 import BeautifulSoup\n",
    "import requests\n",
    "import time\n",
    "import datetime\n",
    "\n",
    "import smtplib"
   ]
  },
  {
   "cell_type": "code",
   "execution_count": 27,
   "id": "987c11ea-45ac-41f3-a84a-3cf84a475d79",
   "metadata": {},
   "outputs": [
    {
     "name": "stdout",
     "output_type": "stream",
     "text": [
      "\n",
      "            Bluetooth Headphones Over-Ear, Zihnic Foldable Wireless and Wired Stereo Headset Micro SD/TF, FM for Cell Phone,PC,Soft Earmuffs &Light Weight for Prolonged Wearing (Black/Blue)\n",
      "           \n",
      "\n",
      "\n",
      "\n",
      "\n",
      "\n",
      "                4.4 out of 5 stars\n",
      "               \n",
      "\n",
      "\n",
      "\n",
      "\n",
      "\n",
      "\n",
      "\n",
      "\n"
     ]
    }
   ],
   "source": [
    "# Connect to website \n",
    "\n",
    "URL = 'https://www.amazon.com/Wireless-Over-Ear-Bluetooth-Headphones-Prolonged/dp/B07QGVMCJG/ref=sr_1_1_sspa?crid=1F9D9BIP3BAV8&keywords=wireless+headphones&qid=1667365043&qu=eyJxc2MiOiI3LjgzIiwicXNhIjoiNy42NiIsInFzcCI6IjcuMzUifQ%3D%3D&sprefix=wireless+headphon%2Caps%2C663&sr=8-1-spons&psc=1'\n",
    "# This section calls which url\n",
    "\n",
    "headers = {\"User-Agent\": \"Mozilla/5.0 (Macintosh; Intel Mac OS X 10_15_7) AppleWebKit/537.36 (KHTML, like Gecko) Chrome/106.0.0.0 Safari/537.36\", \"Accept-Encoding\":\"gzip, deflate\", \"Accept\":\"text/html,application/xhtml+xml,application/xml;q=0.9,*/*;q=0.8\", \"DNT\":\"1\",\"Connection\":\"close\", \"Upgrade-Insecure-Requests\":\"1\"}\n",
    "#Not entirely sure what this does, specifiy my computer?    \n",
    "    \n",
    "page = requests.get(URL, headers=headers)\n",
    "\n",
    "soup1 = BeautifulSoup(page.content, \"html.parser\")\n",
    "\n",
    "soup2 = BeautifulSoup(soup1.prettify(), 'html.parser')\n",
    "#prettify makes code more pretty\n",
    "\n",
    "title = soup2.find(id='productTitle').get_text()\n",
    "#this specifies where on the html it is looking for - in this case the product title on the amazon page - you found this by \"view dev tools\" in chrome then select an element and finding the titles ID\n",
    "\n",
    "Rating = soup2.find(id='acrPopover').get_text()\n",
    "\n",
    "print(title)\n",
    "print(Rating)"
   ]
  },
  {
   "cell_type": "code",
   "execution_count": 32,
   "id": "0d73e4e1-84f9-4440-8291-bae1dcddc953",
   "metadata": {},
   "outputs": [
    {
     "name": "stdout",
     "output_type": "stream",
     "text": [
      "Bluetooth Headphones Over-Ear, Zihnic Foldable Wireless and Wired Stereo Headset Micro SD/TF, FM for Cell Phone,PC,Soft Earmuffs &Light Weight for Prolonged Wearing (Black/Blue)\n",
      ".4 out of 5 stars\n"
     ]
    }
   ],
   "source": [
    "Rating = Rating.strip()[1:]\n",
    "title = title.strip()\n",
    "\n",
    "print(title)\n",
    "print(Rating)\n",
    "\n",
    "#this cleans up the above code"
   ]
  },
  {
   "cell_type": "code",
   "execution_count": 42,
   "id": "c10c716f-2b37-4f3b-9219-82478f4f233e",
   "metadata": {},
   "outputs": [
    {
     "name": "stdout",
     "output_type": "stream",
     "text": [
      "2022-11-03\n"
     ]
    }
   ],
   "source": [
    "import datetime\n",
    "\n",
    "today = datetime.date.today()\n",
    "\n",
    "print(today)"
   ]
  },
  {
   "cell_type": "code",
   "execution_count": 53,
   "id": "e572b6c0-7303-44c3-9c41-2ac82a04ee02",
   "metadata": {},
   "outputs": [],
   "source": [
    "import csv\n",
    "\n",
    "header = ['Title', 'Rating', 'Date']\n",
    "data = [title, price,today]\n",
    "          \n",
    "with open('AmazonWebScraperDataset.csv', 'w', newline='', encoding='UTF8') as f:\n",
    "    writer = csv.writer(f)\n",
    "    writer.writerow(header)\n",
    "    writer.writerow(data)"
   ]
  },
  {
   "cell_type": "code",
   "execution_count": 65,
   "id": "5bdbb509-3450-4386-8763-7e6e53df699e",
   "metadata": {},
   "outputs": [
    {
     "data": {
      "text/html": [
       "<div>\n",
       "<style scoped>\n",
       "    .dataframe tbody tr th:only-of-type {\n",
       "        vertical-align: middle;\n",
       "    }\n",
       "\n",
       "    .dataframe tbody tr th {\n",
       "        vertical-align: top;\n",
       "    }\n",
       "\n",
       "    .dataframe thead th {\n",
       "        text-align: right;\n",
       "    }\n",
       "</style>\n",
       "<table border=\"1\" class=\"dataframe\">\n",
       "  <thead>\n",
       "    <tr style=\"text-align: right;\">\n",
       "      <th></th>\n",
       "      <th>Title</th>\n",
       "      <th>Rating</th>\n",
       "      <th>Date</th>\n",
       "    </tr>\n",
       "  </thead>\n",
       "  <tbody>\n",
       "    <tr>\n",
       "      <th>0</th>\n",
       "      <td>Bluetooth Headphones Over-Ear, Zihnic Foldable...</td>\n",
       "      <td>\\n\\n\\n\\n\\n                4.4 out of 5 stars\\n...</td>\n",
       "      <td>2022-11-03</td>\n",
       "    </tr>\n",
       "    <tr>\n",
       "      <th>1</th>\n",
       "      <td>Bluetooth Headphones Over-Ear, Zihnic Foldable...</td>\n",
       "      <td>\\n\\n\\n\\n\\n                4.4 out of 5 stars\\n...</td>\n",
       "      <td>2022-11-03</td>\n",
       "    </tr>\n",
       "  </tbody>\n",
       "</table>\n",
       "</div>"
      ],
      "text/plain": [
       "                                               Title  \\\n",
       "0  Bluetooth Headphones Over-Ear, Zihnic Foldable...   \n",
       "1  Bluetooth Headphones Over-Ear, Zihnic Foldable...   \n",
       "\n",
       "                                              Rating        Date  \n",
       "0  \\n\\n\\n\\n\\n                4.4 out of 5 stars\\n...  2022-11-03  \n",
       "1  \\n\\n\\n\\n\\n                4.4 out of 5 stars\\n...  2022-11-03  "
      ]
     },
     "execution_count": 65,
     "metadata": {},
     "output_type": "execute_result"
    }
   ],
   "source": [
    "import pandas as pd \n",
    "\n",
    "pd.read_csv('/Users/nicholasr.barton/AmazonWebScraperDataset.csv')\n"
   ]
  },
  {
   "cell_type": "code",
   "execution_count": 66,
   "id": "e88b39c9-6032-44a6-aaf0-a75cad8bbf3d",
   "metadata": {},
   "outputs": [],
   "source": [
    "#Now are are appending csv \n",
    "\n",
    "import csv\n",
    "\n",
    "header = ['Title', 'Rating', 'Date']\n",
    "data = [title, price,today]\n",
    "          \n",
    "with open('AmazonWebScraperDataset.csv', 'a+', newline='', encoding='UTF8') as f:\n",
    "    writer = csv.writer(f)\n",
    "    writer.writerow(data)"
   ]
  },
  {
   "cell_type": "code",
   "execution_count": 68,
   "id": "b86954ec-aaf3-45a9-b852-e2ca0609a999",
   "metadata": {},
   "outputs": [],
   "source": [
    "def check_price():\n",
    "    URL = 'https://www.amazon.com/Wireless-Over-Ear-Bluetooth-Headphones-Prolonged/dp/B07QGVMCJG/ref=sr_1_1_sspa?crid=1F9D9BIP3BAV8&keywords=wireless+headphones&qid=1667365043&qu=eyJxc2MiOiI3LjgzIiwicXNhIjoiNy42NiIsInFzcCI6IjcuMzUifQ%3D%3D&sprefix=wireless+headphon%2Caps%2C663&sr=8-1-spons&psc=1'\n",
    "# This section calls which url\n",
    "\n",
    "    headers = {\"User-Agent\": \"Mozilla/5.0 (Macintosh; Intel Mac OS X 10_15_7) AppleWebKit/537.36 (KHTML, like Gecko) Chrome/106.0.0.0 Safari/537.36\", \"Accept-Encoding\":\"gzip, deflate\", \"Accept\":\"text/html,application/xhtml+xml,application/xml;q=0.9,*/*;q=0.8\", \"DNT\":\"1\",\"Connection\":\"close\", \"Upgrade-Insecure-Requests\":\"1\"}\n",
    "#Not entirely sure what this does, specifiy my computer?    \n",
    "    \n",
    "    page = requests.get(URL, headers=headers)\n",
    "\n",
    "    soup1 = BeautifulSoup(page.content, \"html.parser\")\n",
    "\n",
    "    soup2 = BeautifulSoup(soup1.prettify(), 'html.parser')\n",
    "#prettify makes code more pretty\n",
    "\n",
    "    title = soup2.find(id='productTitle').get_text()\n",
    "#this specifies where on the html it is looking for - in this case the product title on the amazon page - you found this by \"view dev tools\" in chrome then select an element and finding the titles ID\n",
    "\n",
    "    Rating = soup2.find(id='acrPopover').get_text()\n",
    "    \n",
    "    \n",
    "    rating = rating.strip()[1:]\n",
    "    title = title.strip()\n",
    "    \n",
    "    \n",
    "    import datetime\n",
    "\n",
    "    today = datetime.date.today()\n",
    "\n",
    "    print(today)  \n",
    "    \n",
    "    import csv\n",
    "\n",
    "    header = ['Title', 'Rating', 'Date']\n",
    "    data = [title, price,today]\n",
    "    \n",
    "    with open('AmazonWebScraperDataset.csv', 'a+', newline='', encoding='UTF8') as f:\n",
    "        writer = csv.writer(f)\n",
    "        writer.writerow(data)"
   ]
  },
  {
   "cell_type": "code",
   "execution_count": null,
   "id": "1bd6e256-be6b-4ca7-bea0-0c28f23b8ab4",
   "metadata": {},
   "outputs": [],
   "source": [
    "while(True):\n",
    "    check_price()\n",
    "    time.sleep(864000)\n",
    "    #this above operation will run the check price every five seconds - when you stop you can check the below code to figure out the data"
   ]
  },
  {
   "cell_type": "code",
   "execution_count": 70,
   "id": "313f7e55-8315-40b5-b19b-015e24607aa4",
   "metadata": {},
   "outputs": [
    {
     "data": {
      "text/html": [
       "<div>\n",
       "<style scoped>\n",
       "    .dataframe tbody tr th:only-of-type {\n",
       "        vertical-align: middle;\n",
       "    }\n",
       "\n",
       "    .dataframe tbody tr th {\n",
       "        vertical-align: top;\n",
       "    }\n",
       "\n",
       "    .dataframe thead th {\n",
       "        text-align: right;\n",
       "    }\n",
       "</style>\n",
       "<table border=\"1\" class=\"dataframe\">\n",
       "  <thead>\n",
       "    <tr style=\"text-align: right;\">\n",
       "      <th></th>\n",
       "      <th>Title</th>\n",
       "      <th>Rating</th>\n",
       "      <th>Date</th>\n",
       "    </tr>\n",
       "  </thead>\n",
       "  <tbody>\n",
       "    <tr>\n",
       "      <th>0</th>\n",
       "      <td>Bluetooth Headphones Over-Ear, Zihnic Foldable...</td>\n",
       "      <td>\\n\\n\\n\\n\\n                4.4 out of 5 stars\\n...</td>\n",
       "      <td>2022-11-03</td>\n",
       "    </tr>\n",
       "    <tr>\n",
       "      <th>1</th>\n",
       "      <td>Bluetooth Headphones Over-Ear, Zihnic Foldable...</td>\n",
       "      <td>\\n\\n\\n\\n\\n                4.4 out of 5 stars\\n...</td>\n",
       "      <td>2022-11-03</td>\n",
       "    </tr>\n",
       "    <tr>\n",
       "      <th>2</th>\n",
       "      <td>Bluetooth Headphones Over-Ear, Zihnic Foldable...</td>\n",
       "      <td>\\n\\n\\n\\n\\n                4.4 out of 5 stars\\n...</td>\n",
       "      <td>2022-11-03</td>\n",
       "    </tr>\n",
       "  </tbody>\n",
       "</table>\n",
       "</div>"
      ],
      "text/plain": [
       "                                               Title  \\\n",
       "0  Bluetooth Headphones Over-Ear, Zihnic Foldable...   \n",
       "1  Bluetooth Headphones Over-Ear, Zihnic Foldable...   \n",
       "2  Bluetooth Headphones Over-Ear, Zihnic Foldable...   \n",
       "\n",
       "                                              Rating        Date  \n",
       "0  \\n\\n\\n\\n\\n                4.4 out of 5 stars\\n...  2022-11-03  \n",
       "1  \\n\\n\\n\\n\\n                4.4 out of 5 stars\\n...  2022-11-03  \n",
       "2  \\n\\n\\n\\n\\n                4.4 out of 5 stars\\n...  2022-11-03  "
      ]
     },
     "execution_count": 70,
     "metadata": {},
     "output_type": "execute_result"
    }
   ],
   "source": [
    "import pandas as pd \n",
    "\n",
    "pd.read_csv('/Users/nicholasr.barton/AmazonWebScraperDataset.csv')\n"
   ]
  }
 ],
 "metadata": {
  "kernelspec": {
   "display_name": "Python 3 (ipykernel)",
   "language": "python",
   "name": "python3"
  },
  "language_info": {
   "codemirror_mode": {
    "name": "ipython",
    "version": 3
   },
   "file_extension": ".py",
   "mimetype": "text/x-python",
   "name": "python",
   "nbconvert_exporter": "python",
   "pygments_lexer": "ipython3",
   "version": "3.9.13"
  }
 },
 "nbformat": 4,
 "nbformat_minor": 5
}
